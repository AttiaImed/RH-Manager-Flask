{
 "cells": [
  {
   "cell_type": "code",
   "id": "302c477c",
   "metadata": {
    "execution": {
     "iopub.execute_input": "2024-05-29T14:12:20.731504Z",
     "iopub.status.busy": "2024-05-29T14:12:20.731118Z",
     "iopub.status.idle": "2024-05-29T14:12:28.543551Z",
     "shell.execute_reply": "2024-05-29T14:12:28.542637Z"
    },
    "executionInfo": {
     "elapsed": 276,
     "status": "ok",
     "timestamp": 1690727247385,
     "user": {
      "displayName": "Diaa Essam",
      "userId": "00529409558760259485"
     },
     "user_tz": -180
    },
    "id": "2E7KsQwZfCd7",
    "outputId": "05b471ed-e62f-4e2e-d4cd-40bb2f597747",
    "papermill": {
     "duration": 7.823111,
     "end_time": "2024-05-29T14:12:28.546070",
     "exception": false,
     "start_time": "2024-05-29T14:12:20.722959",
     "status": "completed"
    },
    "tags": [],
    "ExecuteTime": {
     "end_time": "2024-05-30T22:28:37.252311Z",
     "start_time": "2024-05-30T22:28:37.246667Z"
    }
   },
   "source": [
    "import tensorflow as tf\n",
    "from tensorflow.keras.models import Model\n",
    "from tensorflow.keras import backend as K\n",
    "\n",
    "import numpy as np\n",
    "import PIL\n",
    "\n"
   ],
   "outputs": [],
   "execution_count": 74
  },
  {
   "cell_type": "code",
   "id": "69b76457",
   "metadata": {
    "execution": {
     "iopub.execute_input": "2024-05-29T14:12:28.560600Z",
     "iopub.status.busy": "2024-05-29T14:12:28.559874Z",
     "iopub.status.idle": "2024-05-29T14:12:48.442149Z",
     "shell.execute_reply": "2024-05-29T14:12:48.441191Z"
    },
    "executionInfo": {
     "elapsed": 15679,
     "status": "ok",
     "timestamp": 1690727308458,
     "user": {
      "displayName": "Diaa Essam",
      "userId": "00529409558760259485"
     },
     "user_tz": -180
    },
    "id": "T8UCzoyqfCd_",
    "outputId": "c20a4ea6-8b34-4e34-d891-a71ddac5f096",
    "papermill": {
     "duration": 19.891991,
     "end_time": "2024-05-29T14:12:48.444646",
     "exception": false,
     "start_time": "2024-05-29T14:12:28.552655",
     "status": "completed"
    },
    "tags": [],
    "ExecuteTime": {
     "end_time": "2024-05-30T22:28:44.161662Z",
     "start_time": "2024-05-30T22:28:37.271534Z"
    }
   },
   "source": [
    "model_path = 'Files_for_Face_verification_and_Recognition/model'\n",
    "model = tf.saved_model.load(model_path)\n",
    "\n"
   ],
   "outputs": [],
   "execution_count": 75
  },
  {
   "cell_type": "code",
   "id": "b7d9da7e",
   "metadata": {
    "execution": {
     "iopub.execute_input": "2024-05-29T14:12:48.459323Z",
     "iopub.status.busy": "2024-05-29T14:12:48.458451Z",
     "iopub.status.idle": "2024-05-29T14:12:48.520779Z",
     "shell.execute_reply": "2024-05-29T14:12:48.519484Z"
    },
    "executionInfo": {
     "elapsed": 19,
     "status": "ok",
     "timestamp": 1690727308458,
     "user": {
      "displayName": "Diaa Essam",
      "userId": "00529409558760259485"
     },
     "user_tz": -180
    },
    "id": "LVRONqzIfCeA",
    "outputId": "6eecd868-1469-42e7-bc96-bd68eb72b58b",
    "papermill": {
     "duration": 0.07198,
     "end_time": "2024-05-29T14:12:48.523096",
     "exception": false,
     "start_time": "2024-05-29T14:12:48.451116",
     "status": "completed"
    },
    "tags": [],
    "ExecuteTime": {
     "end_time": "2024-05-30T22:28:44.169741Z",
     "start_time": "2024-05-30T22:28:44.161835Z"
    }
   },
   "source": "print(model)",
   "outputs": [
    {
     "name": "stdout",
     "output_type": "stream",
     "text": [
      "<tensorflow.python.saved_model.load.Loader._recreate_base_user_object.<locals>._UserObject object at 0x000001DF02C07320>\n"
     ]
    }
   ],
   "execution_count": 76
  },
  {
   "cell_type": "code",
   "id": "51eb702c",
   "metadata": {
    "execution": {
     "iopub.execute_input": "2024-05-29T14:12:48.537704Z",
     "iopub.status.busy": "2024-05-29T14:12:48.537052Z",
     "iopub.status.idle": "2024-05-29T14:12:48.603161Z",
     "shell.execute_reply": "2024-05-29T14:12:48.602266Z"
    },
    "executionInfo": {
     "elapsed": 288,
     "status": "ok",
     "timestamp": 1690727324946,
     "user": {
      "displayName": "Diaa Essam",
      "userId": "00529409558760259485"
     },
     "user_tz": -180
    },
    "id": "69P707cVfCeB",
    "nbgrader": {
     "grade": false,
     "grade_id": "cell-f05732f7068382cb",
     "locked": false,
     "schema_version": 3,
     "solution": true,
     "task": false
    },
    "papermill": {
     "duration": 0.076129,
     "end_time": "2024-05-29T14:12:48.605609",
     "exception": false,
     "start_time": "2024-05-29T14:12:48.529480",
     "status": "completed"
    },
    "tags": [],
    "ExecuteTime": {
     "end_time": "2024-05-30T22:28:44.178017Z",
     "start_time": "2024-05-30T22:28:44.169906Z"
    }
   },
   "source": [
    "def triplet_loss(y_true, y_pred, alpha = 0.2):\n",
    "\n",
    "    anchor, positive, negative = y_pred[0], y_pred[1], y_pred[2]\n",
    "\n",
    "    pos_dist = tf.reduce_sum(tf.square(tf.subtract(anchor, positive)), axis=-1)\n",
    "    neg_dist = tf.reduce_sum(tf.square(tf.subtract(anchor, negative)), axis=-1)\n",
    "    basic_loss = tf.add(tf.subtract(pos_dist, neg_dist), alpha)\n",
    "    loss = tf.reduce_sum(tf.maximum(basic_loss, 0))\n",
    "\n",
    "    return loss"
   ],
   "outputs": [],
   "execution_count": 77
  },
  {
   "cell_type": "code",
   "id": "b8648284",
   "metadata": {
    "execution": {
     "iopub.execute_input": "2024-05-29T14:12:48.620320Z",
     "iopub.status.busy": "2024-05-29T14:12:48.619516Z",
     "iopub.status.idle": "2024-05-29T14:12:48.681004Z",
     "shell.execute_reply": "2024-05-29T14:12:48.679877Z"
    },
    "executionInfo": {
     "elapsed": 293,
     "status": "ok",
     "timestamp": 1690727346497,
     "user": {
      "displayName": "Diaa Essam",
      "userId": "00529409558760259485"
     },
     "user_tz": -180
    },
    "id": "VQN1di5NfCeC",
    "nbgrader": {
     "grade": false,
     "grade_id": "cell-953bcab8e9bbba10",
     "locked": true,
     "schema_version": 3,
     "solution": false,
     "task": false
    },
    "papermill": {
     "duration": 0.071258,
     "end_time": "2024-05-29T14:12:48.683347",
     "exception": false,
     "start_time": "2024-05-29T14:12:48.612089",
     "status": "completed"
    },
    "tags": [],
    "ExecuteTime": {
     "end_time": "2024-05-30T22:28:44.203975Z",
     "start_time": "2024-05-30T22:28:44.178017Z"
    }
   },
   "source": [
    "FRmodel = model"
   ],
   "outputs": [],
   "execution_count": 78
  },
  {
   "cell_type": "code",
   "id": "dd8c0b14",
   "metadata": {
    "execution": {
     "iopub.execute_input": "2024-05-29T14:12:48.703778Z",
     "iopub.status.busy": "2024-05-29T14:12:48.703201Z",
     "iopub.status.idle": "2024-05-29T14:12:48.780276Z",
     "shell.execute_reply": "2024-05-29T14:12:48.779130Z"
    },
    "executionInfo": {
     "elapsed": 302,
     "status": "ok",
     "timestamp": 1690727353157,
     "user": {
      "displayName": "Diaa Essam",
      "userId": "00529409558760259485"
     },
     "user_tz": -180
    },
    "id": "lUOe34cxfCeD",
    "papermill": {
     "duration": 0.090339,
     "end_time": "2024-05-29T14:12:48.782883",
     "exception": false,
     "start_time": "2024-05-29T14:12:48.692544",
     "status": "completed"
    },
    "tags": [],
    "ExecuteTime": {
     "end_time": "2024-05-30T22:28:44.209113Z",
     "start_time": "2024-05-30T22:28:44.203975Z"
    }
   },
   "source": [
    "def img_to_encoding(image_path, model):\n",
    "    img = tf.keras.preprocessing.image.load_img(image_path, target_size=(160, 160))\n",
    "    img = np.around(np.array(img) / 255.0, decimals=12)\n",
    "    x_train = np.expand_dims(img, axis=0)  # Add a dimension of 1 as the first dimension\n",
    "    x_train = tf.convert_to_tensor(x_train, dtype=tf.float32)  # Ensure the tensor is of type float32\n",
    "    # Use the model to make a prediction\n",
    "    infer = model.signatures['serving_default']\n",
    "    encoding = infer(input_1=x_train)['Bottleneck_BatchNorm'].numpy()\n",
    "    return encoding / np.linalg.norm(encoding, ord=2)"
   ],
   "outputs": [],
   "execution_count": 79
  },
  {
   "cell_type": "code",
   "id": "ef83bb8d",
   "metadata": {
    "execution": {
     "iopub.execute_input": "2024-05-29T14:12:48.799317Z",
     "iopub.status.busy": "2024-05-29T14:12:48.798405Z",
     "iopub.status.idle": "2024-05-29T14:12:51.852479Z",
     "shell.execute_reply": "2024-05-29T14:12:51.851276Z"
    },
    "executionInfo": {
     "elapsed": 6064,
     "status": "ok",
     "timestamp": 1690727928861,
     "user": {
      "displayName": "Diaa Essam",
      "userId": "00529409558760259485"
     },
     "user_tz": -180
    },
    "id": "s6tmL4n1fCeD",
    "papermill": {
     "duration": 3.065795,
     "end_time": "2024-05-29T14:12:51.855100",
     "exception": false,
     "start_time": "2024-05-29T14:12:48.789305",
     "status": "completed"
    },
    "tags": [],
    "ExecuteTime": {
     "end_time": "2024-05-30T22:28:45.628137Z",
     "start_time": "2024-05-30T22:28:44.209113Z"
    }
   },
   "source": [
    "database = {\n",
    "    \"danielle\": img_to_encoding(\"Files_for_Face_verification_and_Recognition/images/danielle.png\", FRmodel),\n",
    "    \"younes\": img_to_encoding(\"Files_for_Face_verification_and_Recognition/images/younes.jpg\", FRmodel),\n",
    "    \"tian\": img_to_encoding(\"Files_for_Face_verification_and_Recognition/images/tian.jpg\", FRmodel),\n",
    "    \"andrew\": img_to_encoding(\"Files_for_Face_verification_and_Recognition/images/andrew.jpg\", FRmodel),\n",
    "    \"kian\": img_to_encoding(\"imed/imed1.jpg\", FRmodel),\n",
    "    \"dan\": img_to_encoding(\"Files_for_Face_verification_and_Recognition/images/dan.jpg\", FRmodel),\n",
    "    \"sebastiano\": img_to_encoding(\"Files_for_Face_verification_and_Recognition/images/sebastiano.jpg\", FRmodel),\n",
    "    \"bertrand\": img_to_encoding(\"Files_for_Face_verification_and_Recognition/images/bertrand.jpg\", FRmodel),\n",
    "    \"kevin\": img_to_encoding(\"Files_for_Face_verification_and_Recognition/images/kevin.jpg\", FRmodel),\n",
    "    \"felix\": img_to_encoding(\"Files_for_Face_verification_and_Recognition/images/felix.jpg\", FRmodel),\n",
    "    \"benoit\": img_to_encoding(\"Files_for_Face_verification_and_Recognition/images/benoit.jpg\", FRmodel),\n",
    "    \"arnaud\": img_to_encoding(\"Files_for_Face_verification_and_Recognition/images/arnaud.jpg\", FRmodel)\n",
    "}"
   ],
   "outputs": [],
   "execution_count": 80
  },
  {
   "cell_type": "code",
   "id": "7b223671",
   "metadata": {
    "execution": {
     "iopub.execute_input": "2024-05-29T14:12:51.870186Z",
     "iopub.status.busy": "2024-05-29T14:12:51.869226Z",
     "iopub.status.idle": "2024-05-29T14:12:51.948127Z",
     "shell.execute_reply": "2024-05-29T14:12:51.947036Z"
    },
    "executionInfo": {
     "elapsed": 6,
     "status": "ok",
     "timestamp": 1690727970582,
     "user": {
      "displayName": "Diaa Essam",
      "userId": "00529409558760259485"
     },
     "user_tz": -180
    },
    "id": "XXM8TRpQfCeD",
    "papermill": {
     "duration": 0.089013,
     "end_time": "2024-05-29T14:12:51.950649",
     "exception": false,
     "start_time": "2024-05-29T14:12:51.861636",
     "status": "completed"
    },
    "tags": [],
    "ExecuteTime": {
     "end_time": "2024-05-30T22:28:45.642059Z",
     "start_time": "2024-05-30T22:28:45.629198Z"
    }
   },
   "source": [
    "danielle = tf.keras.preprocessing.image.load_img(\"Files_for_Face_verification_and_Recognition/images/danielle.png\", target_size=(160, 160))\n",
    "kian = tf.keras.preprocessing.image.load_img(\"imed/imed3.jpg\", target_size=(160, 160))"
   ],
   "outputs": [],
   "execution_count": 81
  },
  {
   "cell_type": "code",
   "id": "42d27541",
   "metadata": {
    "execution": {
     "iopub.execute_input": "2024-05-29T14:12:51.965455Z",
     "iopub.status.busy": "2024-05-29T14:12:51.964673Z",
     "iopub.status.idle": "2024-05-29T14:12:52.031690Z",
     "shell.execute_reply": "2024-05-29T14:12:52.030721Z"
    },
    "executionInfo": {
     "elapsed": 307,
     "status": "ok",
     "timestamp": 1690727973767,
     "user": {
      "displayName": "Diaa Essam",
      "userId": "00529409558760259485"
     },
     "user_tz": -180
    },
    "id": "I4K5z5T-fCeE",
    "outputId": "b6041918-57e6-4762-f0c7-f7e7adcfb5fd",
    "papermill": {
     "duration": 0.076878,
     "end_time": "2024-05-29T14:12:52.034101",
     "exception": false,
     "start_time": "2024-05-29T14:12:51.957223",
     "status": "completed"
    },
    "tags": [],
    "ExecuteTime": {
     "end_time": "2024-05-30T22:28:45.648714Z",
     "start_time": "2024-05-30T22:28:45.642059Z"
    }
   },
   "source": [
    "np.around(np.array(kian) / 255.0, decimals=12).shape"
   ],
   "outputs": [
    {
     "data": {
      "text/plain": [
       "(160, 160, 3)"
      ]
     },
     "execution_count": 82,
     "metadata": {},
     "output_type": "execute_result"
    }
   ],
   "execution_count": 82
  },
  {
   "cell_type": "code",
   "id": "f8d61267",
   "metadata": {
    "execution": {
     "iopub.execute_input": "2024-05-29T14:12:52.048980Z",
     "iopub.status.busy": "2024-05-29T14:12:52.048208Z",
     "iopub.status.idle": "2024-05-29T14:12:52.122286Z",
     "shell.execute_reply": "2024-05-29T14:12:52.121097Z"
    },
    "executionInfo": {
     "elapsed": 14,
     "status": "ok",
     "timestamp": 1690727975004,
     "user": {
      "displayName": "Diaa Essam",
      "userId": "00529409558760259485"
     },
     "user_tz": -180
    },
    "id": "SmSngI3mfCeE",
    "outputId": "5f964ef7-29bb-4c40-bc4e-38ea23451e6d",
    "papermill": {
     "duration": 0.08414,
     "end_time": "2024-05-29T14:12:52.124715",
     "exception": false,
     "start_time": "2024-05-29T14:12:52.040575",
     "status": "completed"
    },
    "tags": [],
    "ExecuteTime": {
     "end_time": "2024-05-30T22:28:45.659568Z",
     "start_time": "2024-05-30T22:28:45.648714Z"
    }
   },
   "source": [
    "kian"
   ],
   "outputs": [
    {
     "data": {
      "text/plain": [
       "<PIL.Image.Image image mode=RGB size=160x160>"
      ],
      "image/png": "[encoded data removed]",
      "image/jpeg": "[encoded data removed]"
     },
     "execution_count": 83,
     "metadata": {},
     "output_type": "execute_result"
    }
   ],
   "execution_count": 83
  },
  {
   "cell_type": "code",
   "id": "6b8c337b",
   "metadata": {
    "execution": {
     "iopub.execute_input": "2024-05-29T14:12:52.140948Z",
     "iopub.status.busy": "2024-05-29T14:12:52.140275Z",
     "iopub.status.idle": "2024-05-29T14:12:52.204414Z",
     "shell.execute_reply": "2024-05-29T14:12:52.203350Z"
    },
    "executionInfo": {
     "elapsed": 5,
     "status": "ok",
     "timestamp": 1690727976274,
     "user": {
      "displayName": "Diaa Essam",
      "userId": "00529409558760259485"
     },
     "user_tz": -180
    },
    "id": "4N7bVqx1fCeE",
    "outputId": "a5606dac-96e1-4010-f538-df61cfe80904",
    "papermill": {
     "duration": 0.074594,
     "end_time": "2024-05-29T14:12:52.206619",
     "exception": false,
     "start_time": "2024-05-29T14:12:52.132025",
     "status": "completed"
    },
    "tags": [],
    "ExecuteTime": {
     "end_time": "2024-05-30T22:28:45.667484Z",
     "start_time": "2024-05-30T22:28:45.661576Z"
    }
   },
   "source": [
    "np.around(np.array(danielle) / 255.0, decimals=12).shape"
   ],
   "outputs": [
    {
     "data": {
      "text/plain": [
       "(160, 160, 3)"
      ]
     },
     "execution_count": 84,
     "metadata": {},
     "output_type": "execute_result"
    }
   ],
   "execution_count": 84
  },
  {
   "cell_type": "code",
   "id": "6f202651",
   "metadata": {
    "execution": {
     "iopub.execute_input": "2024-05-29T14:12:52.223316Z",
     "iopub.status.busy": "2024-05-29T14:12:52.222362Z",
     "iopub.status.idle": "2024-05-29T14:12:52.294032Z",
     "shell.execute_reply": "2024-05-29T14:12:52.292970Z"
    },
    "executionInfo": {
     "elapsed": 363,
     "status": "ok",
     "timestamp": 1690727977669,
     "user": {
      "displayName": "Diaa Essam",
      "userId": "00529409558760259485"
     },
     "user_tz": -180
    },
    "id": "sdSBFU_rfCeE",
    "outputId": "cc3b55db-d3c1-42df-9c05-0ee4c54ff8a3",
    "papermill": {
     "duration": 0.082484,
     "end_time": "2024-05-29T14:12:52.296351",
     "exception": false,
     "start_time": "2024-05-29T14:12:52.213867",
     "status": "completed"
    },
    "tags": [],
    "ExecuteTime": {
     "end_time": "2024-05-30T22:28:45.677186Z",
     "start_time": "2024-05-30T22:28:45.667484Z"
    }
   },
   "source": [
    "danielle"
   ],
   "outputs": [
    {
     "data": {
      "text/plain": [
       "<PIL.Image.Image image mode=RGB size=160x160>"
      ],
      "image/png": "[encoded data removed]",
      "image/jpeg": "[encoded data removed]"
     },
     "execution_count": 85,
     "metadata": {},
     "output_type": "execute_result"
    }
   ],
   "execution_count": 85
  },
  {
   "cell_type": "code",
   "id": "ea5eb89c",
   "metadata": {
    "execution": {
     "iopub.execute_input": "2024-05-29T14:12:52.314138Z",
     "iopub.status.busy": "2024-05-29T14:12:52.313217Z",
     "iopub.status.idle": "2024-05-29T14:12:52.376213Z",
     "shell.execute_reply": "2024-05-29T14:12:52.375300Z"
    },
    "executionInfo": {
     "elapsed": 7,
     "status": "ok",
     "timestamp": 1690727980676,
     "user": {
      "displayName": "Diaa Essam",
      "userId": "00529409558760259485"
     },
     "user_tz": -180
    },
    "id": "kyZz_FuefCeF",
    "nbgrader": {
     "grade": false,
     "grade_id": "cell-ba2f317e79e15a2f",
     "locked": false,
     "schema_version": 3,
     "solution": true,
     "task": false
    },
    "papermill": {
     "duration": 0.074603,
     "end_time": "2024-05-29T14:12:52.378678",
     "exception": false,
     "start_time": "2024-05-29T14:12:52.304075",
     "status": "completed"
    },
    "tags": [],
    "ExecuteTime": {
     "end_time": "2024-05-30T22:28:45.683573Z",
     "start_time": "2024-05-30T22:28:45.677186Z"
    }
   },
   "source": [
    "def verify(image_path, identity, database, model):\n",
    "    \n",
    "    encoding = img_to_encoding(image_path, model)\n",
    "    dist = np.linalg.norm(tf.subtract(database[identity], encoding))\n",
    "    if dist < 0.7:\n",
    "        print(\"It's \" + str(identity) + \", welcome in!\")\n",
    "        door_open = True\n",
    "    else:\n",
    "        print(\"It's not \" + str(identity) + \", please go away\")\n",
    "        door_open = False\n",
    "    return dist, door_open"
   ],
   "outputs": [],
   "execution_count": 86
  },
  {
   "cell_type": "code",
   "id": "1575dbc0",
   "metadata": {
    "deletable": false,
    "execution": {
     "iopub.execute_input": "2024-05-29T14:12:52.396255Z",
     "iopub.status.busy": "2024-05-29T14:12:52.395607Z",
     "iopub.status.idle": "2024-05-29T14:12:52.548748Z",
     "shell.execute_reply": "2024-05-29T14:12:52.547489Z"
    },
    "executionInfo": {
     "elapsed": 439,
     "status": "ok",
     "timestamp": 1690728099256,
     "user": {
      "displayName": "Diaa Essam",
      "userId": "00529409558760259485"
     },
     "user_tz": -180
    },
    "id": "BTezgMLqfCeF",
    "nbgrader": {
     "grade": true,
     "grade_id": "cell-014d077254ad7d52",
     "locked": true,
     "points": 1,
     "schema_version": 3,
     "solution": false,
     "task": false
    },
    "outputId": "4bf628ea-54dd-41f1-d055-e25ce227250d",
    "papermill": {
     "duration": 0.164396,
     "end_time": "2024-05-29T14:12:52.550906",
     "exception": false,
     "start_time": "2024-05-29T14:12:52.386510",
     "status": "completed"
    },
    "tags": [],
    "ExecuteTime": {
     "end_time": "2024-05-30T22:28:45.790198Z",
     "start_time": "2024-05-30T22:28:45.683573Z"
    }
   },
   "source": [
    "distance, door_open_flag = verify(\"imed/imed5.jpg\", \"kian\", database, FRmodel)\n",
    "print(\"(\", distance, \",\", door_open_flag, \")\")"
   ],
   "outputs": [
    {
     "name": "stdout",
     "output_type": "stream",
     "text": [
      "It's kian, welcome in!\n",
      "( 0.48738584 , True )\n"
     ]
    }
   ],
   "execution_count": 87
  },
  {
   "cell_type": "code",
   "id": "5ef54e88",
   "metadata": {
    "deletable": false,
    "execution": {
     "iopub.execute_input": "2024-05-29T14:12:52.568352Z",
     "iopub.status.busy": "2024-05-29T14:12:52.567603Z",
     "iopub.status.idle": "2024-05-29T14:12:52.716300Z",
     "shell.execute_reply": "2024-05-29T14:12:52.715287Z"
    },
    "executionInfo": {
     "elapsed": 316,
     "status": "ok",
     "timestamp": 1690728191961,
     "user": {
      "displayName": "Diaa Essam",
      "userId": "00529409558760259485"
     },
     "user_tz": -180
    },
    "id": "H0tCHd8zfCeF",
    "outputId": "5564e0ca-be16-4688-d8e1-c4e952aa1c92",
    "papermill": {
     "duration": 0.159842,
     "end_time": "2024-05-29T14:12:52.718543",
     "exception": false,
     "start_time": "2024-05-29T14:12:52.558701",
     "status": "completed"
    },
    "tags": [],
    "ExecuteTime": {
     "end_time": "2024-05-30T22:28:45.890148Z",
     "start_time": "2024-05-30T22:28:45.791273Z"
    }
   },
   "source": "verify(\"imed/imed5.jpg\", \"kian\", database, FRmodel)",
   "outputs": [
    {
     "name": "stdout",
     "output_type": "stream",
     "text": [
      "It's kian, welcome in!\n"
     ]
    },
    {
     "data": {
      "text/plain": [
       "(0.48738584, True)"
      ]
     },
     "execution_count": 88,
     "metadata": {},
     "output_type": "execute_result"
    }
   ],
   "execution_count": 88
  },
  {
   "cell_type": "code",
   "id": "09c76d21",
   "metadata": {
    "execution": {
     "iopub.execute_input": "2024-05-29T14:12:52.736577Z",
     "iopub.status.busy": "2024-05-29T14:12:52.735803Z",
     "iopub.status.idle": "2024-05-29T14:12:52.801106Z",
     "shell.execute_reply": "2024-05-29T14:12:52.800103Z"
    },
    "executionInfo": {
     "elapsed": 310,
     "status": "ok",
     "timestamp": 1690728201646,
     "user": {
      "displayName": "Diaa Essam",
      "userId": "00529409558760259485"
     },
     "user_tz": -180
    },
    "id": "xrYbqqsVfCeG",
    "nbgrader": {
     "grade": false,
     "grade_id": "cell-a04ff2b5fd1186f8",
     "locked": false,
     "schema_version": 3,
     "solution": true,
     "task": false
    },
    "papermill": {
     "duration": 0.076909,
     "end_time": "2024-05-29T14:12:52.803550",
     "exception": false,
     "start_time": "2024-05-29T14:12:52.726641",
     "status": "completed"
    },
    "tags": [],
    "ExecuteTime": {
     "end_time": "2024-05-30T22:28:45.895921Z",
     "start_time": "2024-05-30T22:28:45.890148Z"
    }
   },
   "source": [
    "def who_is_it(image_path, database, model):\n",
    "    \n",
    "    encoding =  img_to_encoding(image_path, model)\n",
    "\n",
    "    min_dist = 100\n",
    "\n",
    "    for (name, db_enc) in database.items():\n",
    "\n",
    "        dist = np.linalg.norm(tf.subtract(db_enc, encoding))\n",
    "\n",
    "        if dist < min_dist:\n",
    "            min_dist = dist\n",
    "            identity = name\n",
    "\n",
    "    if min_dist > 0.7:\n",
    "        print(\"Not in the database.\")\n",
    "    else:\n",
    "        print (\"it's \" + str(identity) + \", the distance is \" + str(min_dist))\n",
    "\n",
    "    return min_dist, identity"
   ],
   "outputs": [],
   "execution_count": 89
  },
  {
   "cell_type": "code",
   "id": "a8aeeb10",
   "metadata": {
    "deletable": false,
    "execution": {
     "iopub.execute_input": "2024-05-29T14:12:52.821686Z",
     "iopub.status.busy": "2024-05-29T14:12:52.821253Z",
     "iopub.status.idle": "2024-05-29T14:12:53.144203Z",
     "shell.execute_reply": "2024-05-29T14:12:53.143053Z"
    },
    "executionInfo": {
     "elapsed": 443,
     "status": "ok",
     "timestamp": 1690728812359,
     "user": {
      "displayName": "Diaa Essam",
      "userId": "00529409558760259485"
     },
     "user_tz": -180
    },
    "id": "b7v4YQijfCeG",
    "nbgrader": {
     "grade": true,
     "grade_id": "cell-9c88c8ab87677503",
     "locked": true,
     "points": 1,
     "schema_version": 3,
     "solution": false,
     "task": false
    },
    "outputId": "075e7036-f1e3-45e3-849e-752bb32ac916",
    "papermill": {
     "duration": 0.334892,
     "end_time": "2024-05-29T14:12:53.146667",
     "exception": false,
     "start_time": "2024-05-29T14:12:52.811775",
     "status": "completed"
    },
    "tags": [],
    "ExecuteTime": {
     "end_time": "2024-05-30T22:28:46.171547Z",
     "start_time": "2024-05-30T22:28:45.896443Z"
    }
   },
   "source": [
    "\n",
    "# Test 1 with Younes pictures\n",
    "who_is_it(\"imed/imed3.jpg\", database, FRmodel)\n",
    "\n",
    "# Test 2 with Younes pictures\n",
    "test1 = who_is_it(\"imed/imed4.jpg\", database, FRmodel)\n",
    "\n",
    "\n",
    "# Test 3 with Younes pictures\n",
    "test2 = who_is_it(\"imed/imedn.jpg\", database, FRmodel)"
   ],
   "outputs": [
    {
     "name": "stdout",
     "output_type": "stream",
     "text": [
      "Not in the database.\n",
      "it's kian, the distance is 0.52913964\n",
      "Not in the database.\n"
     ]
    }
   ],
   "execution_count": 90
  }
 ],
 "metadata": {
  "kaggle": {
   "accelerator": "nvidiaTeslaT4",
   "dataSources": [
    {
     "databundleVersionId": 6304418,
     "datasetId": 3575428,
     "sourceId": 6225021,
     "sourceType": "datasetVersion"
    },
    {
     "databundleVersionId": 8694088,
     "datasetId": 5108834,
     "sourceId": 8549904,
     "sourceType": "datasetVersion"
    },
    {
     "databundleVersionId": 818514,
     "datasetId": 19136,
     "sourceId": 796646,
     "sourceType": "datasetVersion"
    }
   ],
   "dockerImageVersionId": 30527,
   "isGpuEnabled": true,
   "isInternetEnabled": false,
   "language": "python",
   "sourceType": "notebook"
  },
  "kernelspec": {
   "display_name": "Python 3",
   "language": "python",
   "name": "python3"
  },
  "language_info": {
   "codemirror_mode": {
    "name": "ipython",
    "version": 3
   },
   "file_extension": ".py",
   "mimetype": "text/x-python",
   "name": "python",
   "nbconvert_exporter": "python",
   "pygments_lexer": "ipython3",
   "version": "3.10.12"
  },
  "papermill": {
   "default_parameters": {},
   "duration": 45.937691,
   "end_time": "2024-05-29T14:12:56.760715",
   "environment_variables": {},
   "exception": null,
   "input_path": "__notebook__.ipynb",
   "output_path": "__notebook__.ipynb",
   "parameters": {},
   "start_time": "2024-05-29T14:12:10.823024",
   "version": "2.4.0"
  }
 },
 "nbformat": 4,
 "nbformat_minor": 5
}
